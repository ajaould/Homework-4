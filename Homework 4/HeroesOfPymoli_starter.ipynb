{
 "cells": [
  {
   "cell_type": "markdown",
   "metadata": {},
   "source": [
    "### Heroes Of Pymoli Data Analysis\n",
    "* Of the 1163 active players, the vast majority are male (84%). There also exists, a smaller, but notable proportion of female players (14%).\n",
    "\n",
    "* Our peak age demographic falls between 20-24 (44.8%) with secondary groups falling between 15-19 (18.60%) and 25-29 (13.4%).  \n",
    "-----"
   ]
  },
  {
   "cell_type": "markdown",
   "metadata": {},
   "source": [
    "### Note\n",
    "* Instructions have been included for each segment. You do not have to follow them exactly, but they are included to help you think through the steps."
   ]
  },
  {
   "cell_type": "code",
   "execution_count": 254,
   "metadata": {},
   "outputs": [],
   "source": [
    "# Dependencies and Setup\n",
    "import pandas as pd\n",
    "\n",
    "# File to Load (Remember to Change These)\n",
    "file_to_load = \"purchase_data.csv\"\n",
    "\n",
    "# Read Purchasing File and store into Pandas data frame\n",
    "purchase_data = pd.read_csv(file_to_load)"
   ]
  },
  {
   "cell_type": "markdown",
   "metadata": {},
   "source": [
    "## Player Count"
   ]
  },
  {
   "cell_type": "markdown",
   "metadata": {},
   "source": [
    "* Display the total number of players\n"
   ]
  },
  {
   "cell_type": "code",
   "execution_count": 255,
   "metadata": {},
   "outputs": [
    {
     "data": {
      "text/plain": [
       "576"
      ]
     },
     "execution_count": 255,
     "metadata": {},
     "output_type": "execute_result"
    }
   ],
   "source": [
    "player_number = purchase_data['SN'].unique()\n",
    "len(player_number)\n"
   ]
  },
  {
   "cell_type": "markdown",
   "metadata": {},
   "source": [
    "## Purchasing Analysis (Total)"
   ]
  },
  {
   "cell_type": "markdown",
   "metadata": {},
   "source": [
    "* Run basic calculations to obtain number of unique items, average price, etc.\n",
    "\n",
    "\n",
    "* Create a summary data frame to hold the results\n",
    "\n",
    "\n",
    "* Optional: give the displayed data cleaner formatting\n",
    "\n",
    "\n",
    "* Display the summary data frame\n"
   ]
  },
  {
   "cell_type": "code",
   "execution_count": 256,
   "metadata": {
    "scrolled": true
   },
   "outputs": [
    {
     "data": {
      "text/html": [
       "<div>\n",
       "<style scoped>\n",
       "    .dataframe tbody tr th:only-of-type {\n",
       "        vertical-align: middle;\n",
       "    }\n",
       "\n",
       "    .dataframe tbody tr th {\n",
       "        vertical-align: top;\n",
       "    }\n",
       "\n",
       "    .dataframe thead th {\n",
       "        text-align: right;\n",
       "    }\n",
       "</style>\n",
       "<table border=\"1\" class=\"dataframe\">\n",
       "  <thead>\n",
       "    <tr style=\"text-align: right;\">\n",
       "      <th></th>\n",
       "      <th>Number of Unique Items</th>\n",
       "      <th>Average Price</th>\n",
       "      <th>Number of Purchases</th>\n",
       "      <th>Total Revenue</th>\n",
       "    </tr>\n",
       "  </thead>\n",
       "  <tbody>\n",
       "    <tr>\n",
       "      <th>0</th>\n",
       "      <td>179</td>\n",
       "      <td>$3.05</td>\n",
       "      <td>780</td>\n",
       "      <td>$2379.77</td>\n",
       "    </tr>\n",
       "  </tbody>\n",
       "</table>\n",
       "</div>"
      ],
      "text/plain": [
       "   Number of Unique Items Average Price  Number of Purchases Total Revenue\n",
       "0                     179         $3.05                  780      $2379.77"
      ]
     },
     "execution_count": 256,
     "metadata": {},
     "output_type": "execute_result"
    }
   ],
   "source": [
    "Item_number = purchase_data['Item Name'].unique()\n",
    "numbers = len(Item_number)\n",
    "\n",
    "Average_price = purchase_data['Price'].mean(axis=0)\n",
    "fave = format(Average_price, '.3')\n",
    "\n",
    "\n",
    "number_purchase = purchase_data['Purchase ID'].count()\n",
    "\n",
    "\n",
    "total_rev = purchase_data['Price'].sum()\n",
    "\n",
    "\n",
    "frame_summary=pd.DataFrame({\"Number of Unique Items\": numbers, \"Average Price\": \"$\" + str(fave), \"Number of Purchases\": number_purchase, \"Total Revenue\": \"$\" +str(total_rev)}, index=[0])\n",
    "frame_summary\n"
   ]
  },
  {
   "cell_type": "markdown",
   "metadata": {},
   "source": [
    "## Gender Demographics"
   ]
  },
  {
   "cell_type": "markdown",
   "metadata": {},
   "source": [
    "* Percentage and Count of Male Players\n",
    "\n",
    "\n",
    "* Percentage and Count of Female Players\n",
    "\n",
    "\n",
    "* Percentage and Count of Other / Non-Disclosed\n",
    "\n",
    "\n"
   ]
  },
  {
   "cell_type": "code",
   "execution_count": 257,
   "metadata": {},
   "outputs": [
    {
     "name": "stdout",
     "output_type": "stream",
     "text": [
      "               Genders  Total Count Percentage of Players\n",
      "0                Males          652                83.59%\n",
      "1              Females          113                14.49%\n",
      "2  Other/Non Disclosed           15                 1.92%\n"
     ]
    }
   ],
   "source": [
    "Genderorg = purchase_data['Gender']==\"Male\"\n",
    "Males = purchase_data.loc[Genderorg,:]\n",
    "M=Males['Age'].count()\n",
    "\n",
    "GenderorgF = purchase_data['Gender']==\"Female\"\n",
    "Female = purchase_data.loc[GenderorgF,:]\n",
    "F=Female['Age'].count()\n",
    "\n",
    "Genderorgno = purchase_data['Gender']==\"Other / Non-Disclosed\"\n",
    "NON = purchase_data.loc[Genderorgno,:]\n",
    "N=NON['Age'].count()\n",
    "\n",
    "total=M+F+N\n",
    "\n",
    "PM = \"{:.2%}\".format(M/total)\n",
    "PF = \"{:.2%}\".format(F/total)\n",
    "PN = \"{:.2%}\".format(N/total)\n",
    "\n",
    "Frame_Gender = pd.DataFrame({\"Genders\":[\"Males\", \"Females\", \"Other/Non Disclosed\"],\"Total Count\":[M, F, N], \"Percentage of Players\": [PM.format(), PF, PN]})\n",
    "print(Frame_Gender)\n"
   ]
  },
  {
   "cell_type": "markdown",
   "metadata": {},
   "source": [
    "\n",
    "## Purchasing Analysis (Gender)"
   ]
  },
  {
   "cell_type": "markdown",
   "metadata": {},
   "source": [
    "* Run basic calculations to obtain purchase count, avg. purchase price, avg. purchase total per person etc. by gender\n",
    "\n",
    "\n",
    "\n",
    "\n",
    "* Create a summary data frame to hold the results\n",
    "\n",
    "\n",
    "* Optional: give the displayed data cleaner formatting\n",
    "\n",
    "\n",
    "* Display the summary data frame"
   ]
  },
  {
   "cell_type": "code",
   "execution_count": 258,
   "metadata": {},
   "outputs": [
    {
     "name": "stdout",
     "output_type": "stream",
     "text": [
      "                Gender  Number of Purchases  Average Purchase Price  \\\n",
      "0                Males                  652                3.017853   \n",
      "1              Females                  113                3.203009   \n",
      "2  Other/Non-Disclosed                   15                3.346000   \n",
      "\n",
      "   Average Purchase per Person  Total Purchases  \n",
      "0                     3.017853          1967.64  \n",
      "1                     3.203009           361.94  \n",
      "2                     3.346000            50.19  \n"
     ]
    }
   ],
   "source": [
    "Mcount = Males['Purchase ID'].count()\n",
    "Mavgpur = Males['Price'].mean()\n",
    "Mpurtot = Males['Price'].sum()\n",
    "Mavgper = Mpurtot/ Mcount\n",
    "\n",
    "Fcount = Female['Purchase ID'].count()\n",
    "Favgpur = Female['Price'].mean()\n",
    "Fpurtot = Female['Price'].sum()\n",
    "Favgper = Fpurtot/ Fcount\n",
    "\n",
    "Ncount = NON['Purchase ID'].count()\n",
    "Navgpur = NON['Price'].mean()\n",
    "Npurtot = NON['Price'].sum()\n",
    "Navgper = Npurtot/ Ncount\n",
    "\n",
    "Purchasing_Analysis = pd.DataFrame({\"Gender\": [\"Males\", \"Females\", \"Other/Non-Disclosed\"], \"Number of Purchases\":[Mcount, Fcount, Ncount],\n",
    "                                   \"Average Purchase Price\":[Mavgpur, Favgpur, Navgpur], \"Average Purchase per Person\": [Mavgper, Favgper, Navgper],\n",
    "                                   \"Total Purchases\":[Mpurtot, Fpurtot, Npurtot]})\n",
    "print(Purchasing_Analysis)"
   ]
  },
  {
   "cell_type": "markdown",
   "metadata": {},
   "source": [
    "## Age Demographics"
   ]
  },
  {
   "cell_type": "markdown",
   "metadata": {},
   "source": [
    "* Establish bins for ages\n",
    "\n",
    "\n",
    "* Categorize the existing players using the age bins. Hint: use pd.cut()\n",
    "\n",
    "\n",
    "* Calculate the numbers and percentages by age group\n",
    "\n",
    "\n",
    "* Create a summary data frame to hold the results\n",
    "\n",
    "\n",
    "* Optional: round the percentage column to two decimal points\n",
    "\n",
    "\n",
    "* Display Age Demographics Table\n"
   ]
  },
  {
   "cell_type": "code",
   "execution_count": 259,
   "metadata": {},
   "outputs": [
    {
     "data": {
      "text/html": [
       "<div>\n",
       "<style scoped>\n",
       "    .dataframe tbody tr th:only-of-type {\n",
       "        vertical-align: middle;\n",
       "    }\n",
       "\n",
       "    .dataframe tbody tr th {\n",
       "        vertical-align: top;\n",
       "    }\n",
       "\n",
       "    .dataframe thead th {\n",
       "        text-align: right;\n",
       "    }\n",
       "</style>\n",
       "<table border=\"1\" class=\"dataframe\">\n",
       "  <thead>\n",
       "    <tr style=\"text-align: right;\">\n",
       "      <th></th>\n",
       "      <th>Total Count</th>\n",
       "      <th>Percentage of Players</th>\n",
       "    </tr>\n",
       "    <tr>\n",
       "      <th>Age Ranges</th>\n",
       "      <th></th>\n",
       "      <th></th>\n",
       "    </tr>\n",
       "  </thead>\n",
       "  <tbody>\n",
       "    <tr>\n",
       "      <th>&lt;10</th>\n",
       "      <td>17</td>\n",
       "      <td>2.95%</td>\n",
       "    </tr>\n",
       "    <tr>\n",
       "      <th>10-14</th>\n",
       "      <td>22</td>\n",
       "      <td>3.82%</td>\n",
       "    </tr>\n",
       "    <tr>\n",
       "      <th>15-19</th>\n",
       "      <td>107</td>\n",
       "      <td>18.58%</td>\n",
       "    </tr>\n",
       "    <tr>\n",
       "      <th>20-24</th>\n",
       "      <td>258</td>\n",
       "      <td>44.79%</td>\n",
       "    </tr>\n",
       "    <tr>\n",
       "      <th>25-29</th>\n",
       "      <td>77</td>\n",
       "      <td>13.37%</td>\n",
       "    </tr>\n",
       "    <tr>\n",
       "      <th>30-34</th>\n",
       "      <td>52</td>\n",
       "      <td>9.03%</td>\n",
       "    </tr>\n",
       "    <tr>\n",
       "      <th>35-39</th>\n",
       "      <td>31</td>\n",
       "      <td>5.38%</td>\n",
       "    </tr>\n",
       "    <tr>\n",
       "      <th>40+</th>\n",
       "      <td>12</td>\n",
       "      <td>2.08%</td>\n",
       "    </tr>\n",
       "  </tbody>\n",
       "</table>\n",
       "</div>"
      ],
      "text/plain": [
       "            Total Count Percentage of Players\n",
       "Age Ranges                                   \n",
       "<10                  17                 2.95%\n",
       "10-14                22                 3.82%\n",
       "15-19               107                18.58%\n",
       "20-24               258                44.79%\n",
       "25-29                77                13.37%\n",
       "30-34                52                 9.03%\n",
       "35-39                31                 5.38%\n",
       "40+                  12                 2.08%"
      ]
     },
     "execution_count": 259,
     "metadata": {},
     "output_type": "execute_result"
    }
   ],
   "source": [
    "unique_player=purchase_data[[\"SN\", \"Age\",\"Gender\",\"Price\"]].copy()\n",
    "unique_player.drop_duplicates(subset =\"SN\", \n",
    "                     keep = 'first', inplace = True) \n",
    "\n",
    "Age_Categories=[0,9,14,19,24,29,34,39,100]\n",
    "Ages = [\"<10\", \"10-14\", \"15-19\", \"20-24\", \"25-29\", \"30-34\", \"35-39\",\"40+\"]\n",
    "unique_player[\"Age Groups\"]=pd.cut(unique_player[\"Age\"], Age_Categories, labels=Ages)\n",
    "\n",
    "# Calculate the number demographically per count\n",
    "Age1=unique_player[\"Age Groups\"]==\"<10\"\n",
    "Age11 = unique_player.loc[Age1,:]\n",
    "A1=Age11['Gender'].count()\n",
    "\n",
    "Age2=unique_player[\"Age Groups\"]==\"10-14\"\n",
    "Age22 = unique_player.loc[Age2,:]\n",
    "A2=Age22['Gender'].count()\n",
    "\n",
    "Age3=unique_player[\"Age Groups\"]==\"15-19\"\n",
    "Age33 = unique_player.loc[Age3,:]\n",
    "A3=Age33['Gender'].count()\n",
    "\n",
    "Age4=unique_player[\"Age Groups\"]==\"20-24\"\n",
    "Age44 = unique_player.loc[Age4,:]\n",
    "A4=Age44['Gender'].count()\n",
    "\n",
    "Age5=unique_player[\"Age Groups\"]==\"25-29\"\n",
    "Age55 = unique_player.loc[Age5,:]\n",
    "A5=Age55['Gender'].count()\n",
    "\n",
    "Age6=unique_player[\"Age Groups\"]==\"30-34\"\n",
    "Age66 = unique_player.loc[Age6,:]\n",
    "A6=Age66['Gender'].count()\n",
    "\n",
    "Age7=unique_player[\"Age Groups\"]==\"35-39\"\n",
    "Age77 = unique_player.loc[Age7,:]\n",
    "A7=Age77['Gender'].count()\n",
    "\n",
    "Age8=unique_player[\"Age Groups\"]==\"40+\"\n",
    "Age88 = unique_player.loc[Age8,:]\n",
    "A8=Age88['Gender'].count()\n",
    "\n",
    "\n",
    "Total_age=A1+A2+A3+A4+A5+A6+A7+A8\n",
    "\n",
    "P1 = \"{:.2%}\".format(A1/Total_age)\n",
    "P2 = \"{:.2%}\".format(A2/Total_age)\n",
    "P3 = \"{:.2%}\".format(A3/Total_age)\n",
    "P4 = \"{:.2%}\".format(A4/Total_age)\n",
    "P5 = \"{:.2%}\".format(A5/Total_age)\n",
    "P6 = \"{:.2%}\".format(A6/Total_age)\n",
    "P7 = \"{:.2%}\".format(A7/Total_age)\n",
    "P8 = \"{:.2%}\".format(A8/Total_age)\n",
    "\n",
    "Age_Demographics_df = pd.DataFrame({\"Age Ranges\":Ages, \"Total Count\":[A1,A2,A3,A4,A5,A6,A7,A8], \"Percentage of Players\":[P1,P2,P3,P4,P5,P6,P7,P8]})\n",
    "Age_Demographics_df.set_index(\"Age Ranges\")\n",
    "\n"
   ]
  },
  {
   "cell_type": "markdown",
   "metadata": {},
   "source": [
    "## Purchasing Analysis (Age)"
   ]
  },
  {
   "cell_type": "markdown",
   "metadata": {},
   "source": [
    "* Bin the purchase_data data frame by age\n",
    "\n",
    "\n",
    "* Run basic calculations to obtain purchase count, avg. purchase price, avg. purchase total per person etc. in the table below\n",
    "\n",
    "\n",
    "* Create a summary data frame to hold the results\n",
    "\n",
    "\n",
    "* Optional: give the displayed data cleaner formatting\n",
    "\n",
    "\n",
    "* Display the summary data frame"
   ]
  },
  {
   "cell_type": "code",
   "execution_count": 260,
   "metadata": {},
   "outputs": [
    {
     "data": {
      "text/html": [
       "<style  type=\"text/css\" >\n",
       "</style><table id=\"T_87f65178_a8fd_11ea_9138_283a4d0bcbba\" ><thead>    <tr>        <th class=\"blank level0\" ></th>        <th class=\"col_heading level0 col0\" >Purchase Count</th>        <th class=\"col_heading level0 col1\" >Average Purchase Price</th>        <th class=\"col_heading level0 col2\" >Total Purchase Value</th>        <th class=\"col_heading level0 col3\" >Avg Total Purchase per Person</th>    </tr></thead><tbody>\n",
       "                <tr>\n",
       "                        <th id=\"T_87f65178_a8fd_11ea_9138_283a4d0bcbbalevel0_row0\" class=\"row_heading level0 row0\" ><10</th>\n",
       "                        <td id=\"T_87f65178_a8fd_11ea_9138_283a4d0bcbbarow0_col0\" class=\"data row0 col0\" >23</td>\n",
       "                        <td id=\"T_87f65178_a8fd_11ea_9138_283a4d0bcbbarow0_col1\" class=\"data row0 col1\" >$3.35</td>\n",
       "                        <td id=\"T_87f65178_a8fd_11ea_9138_283a4d0bcbbarow0_col2\" class=\"data row0 col2\" >$77.13</td>\n",
       "                        <td id=\"T_87f65178_a8fd_11ea_9138_283a4d0bcbbarow0_col3\" class=\"data row0 col3\" >$4.54</td>\n",
       "            </tr>\n",
       "            <tr>\n",
       "                        <th id=\"T_87f65178_a8fd_11ea_9138_283a4d0bcbbalevel0_row1\" class=\"row_heading level0 row1\" >10-14</th>\n",
       "                        <td id=\"T_87f65178_a8fd_11ea_9138_283a4d0bcbbarow1_col0\" class=\"data row1 col0\" >28</td>\n",
       "                        <td id=\"T_87f65178_a8fd_11ea_9138_283a4d0bcbbarow1_col1\" class=\"data row1 col1\" >$2.96</td>\n",
       "                        <td id=\"T_87f65178_a8fd_11ea_9138_283a4d0bcbbarow1_col2\" class=\"data row1 col2\" >$82.78</td>\n",
       "                        <td id=\"T_87f65178_a8fd_11ea_9138_283a4d0bcbbarow1_col3\" class=\"data row1 col3\" >$3.76</td>\n",
       "            </tr>\n",
       "            <tr>\n",
       "                        <th id=\"T_87f65178_a8fd_11ea_9138_283a4d0bcbbalevel0_row2\" class=\"row_heading level0 row2\" >15-19</th>\n",
       "                        <td id=\"T_87f65178_a8fd_11ea_9138_283a4d0bcbbarow2_col0\" class=\"data row2 col0\" >136</td>\n",
       "                        <td id=\"T_87f65178_a8fd_11ea_9138_283a4d0bcbbarow2_col1\" class=\"data row2 col1\" >$3.04</td>\n",
       "                        <td id=\"T_87f65178_a8fd_11ea_9138_283a4d0bcbbarow2_col2\" class=\"data row2 col2\" >$412.89</td>\n",
       "                        <td id=\"T_87f65178_a8fd_11ea_9138_283a4d0bcbbarow2_col3\" class=\"data row2 col3\" >$3.86</td>\n",
       "            </tr>\n",
       "            <tr>\n",
       "                        <th id=\"T_87f65178_a8fd_11ea_9138_283a4d0bcbbalevel0_row3\" class=\"row_heading level0 row3\" >20-24</th>\n",
       "                        <td id=\"T_87f65178_a8fd_11ea_9138_283a4d0bcbbarow3_col0\" class=\"data row3 col0\" >365</td>\n",
       "                        <td id=\"T_87f65178_a8fd_11ea_9138_283a4d0bcbbarow3_col1\" class=\"data row3 col1\" >$3.05</td>\n",
       "                        <td id=\"T_87f65178_a8fd_11ea_9138_283a4d0bcbbarow3_col2\" class=\"data row3 col2\" >$1114.06</td>\n",
       "                        <td id=\"T_87f65178_a8fd_11ea_9138_283a4d0bcbbarow3_col3\" class=\"data row3 col3\" >$4.32</td>\n",
       "            </tr>\n",
       "            <tr>\n",
       "                        <th id=\"T_87f65178_a8fd_11ea_9138_283a4d0bcbbalevel0_row4\" class=\"row_heading level0 row4\" >25-29</th>\n",
       "                        <td id=\"T_87f65178_a8fd_11ea_9138_283a4d0bcbbarow4_col0\" class=\"data row4 col0\" >101</td>\n",
       "                        <td id=\"T_87f65178_a8fd_11ea_9138_283a4d0bcbbarow4_col1\" class=\"data row4 col1\" >$2.90</td>\n",
       "                        <td id=\"T_87f65178_a8fd_11ea_9138_283a4d0bcbbarow4_col2\" class=\"data row4 col2\" >$293.00</td>\n",
       "                        <td id=\"T_87f65178_a8fd_11ea_9138_283a4d0bcbbarow4_col3\" class=\"data row4 col3\" >$3.81</td>\n",
       "            </tr>\n",
       "            <tr>\n",
       "                        <th id=\"T_87f65178_a8fd_11ea_9138_283a4d0bcbbalevel0_row5\" class=\"row_heading level0 row5\" >30-34</th>\n",
       "                        <td id=\"T_87f65178_a8fd_11ea_9138_283a4d0bcbbarow5_col0\" class=\"data row5 col0\" >73</td>\n",
       "                        <td id=\"T_87f65178_a8fd_11ea_9138_283a4d0bcbbarow5_col1\" class=\"data row5 col1\" >$2.93</td>\n",
       "                        <td id=\"T_87f65178_a8fd_11ea_9138_283a4d0bcbbarow5_col2\" class=\"data row5 col2\" >$214.00</td>\n",
       "                        <td id=\"T_87f65178_a8fd_11ea_9138_283a4d0bcbbarow5_col3\" class=\"data row5 col3\" >$4.12</td>\n",
       "            </tr>\n",
       "            <tr>\n",
       "                        <th id=\"T_87f65178_a8fd_11ea_9138_283a4d0bcbbalevel0_row6\" class=\"row_heading level0 row6\" >35-39</th>\n",
       "                        <td id=\"T_87f65178_a8fd_11ea_9138_283a4d0bcbbarow6_col0\" class=\"data row6 col0\" >41</td>\n",
       "                        <td id=\"T_87f65178_a8fd_11ea_9138_283a4d0bcbbarow6_col1\" class=\"data row6 col1\" >$3.60</td>\n",
       "                        <td id=\"T_87f65178_a8fd_11ea_9138_283a4d0bcbbarow6_col2\" class=\"data row6 col2\" >$147.67</td>\n",
       "                        <td id=\"T_87f65178_a8fd_11ea_9138_283a4d0bcbbarow6_col3\" class=\"data row6 col3\" >$4.76</td>\n",
       "            </tr>\n",
       "            <tr>\n",
       "                        <th id=\"T_87f65178_a8fd_11ea_9138_283a4d0bcbbalevel0_row7\" class=\"row_heading level0 row7\" >40+</th>\n",
       "                        <td id=\"T_87f65178_a8fd_11ea_9138_283a4d0bcbbarow7_col0\" class=\"data row7 col0\" >13</td>\n",
       "                        <td id=\"T_87f65178_a8fd_11ea_9138_283a4d0bcbbarow7_col1\" class=\"data row7 col1\" >$2.94</td>\n",
       "                        <td id=\"T_87f65178_a8fd_11ea_9138_283a4d0bcbbarow7_col2\" class=\"data row7 col2\" >$38.24</td>\n",
       "                        <td id=\"T_87f65178_a8fd_11ea_9138_283a4d0bcbbarow7_col3\" class=\"data row7 col3\" >$3.19</td>\n",
       "            </tr>\n",
       "    </tbody></table>"
      ],
      "text/plain": [
       "<pandas.io.formats.style.Styler at 0x23889963688>"
      ]
     },
     "execution_count": 260,
     "metadata": {},
     "output_type": "execute_result"
    }
   ],
   "source": [
    "unique_player=purchase_data[[\"SN\", \"Age\",\"Gender\",\"Price\"]].copy()\n",
    "\n",
    "\n",
    "Age_Categories=[0,9,14,19,24,29,34,39,100]\n",
    "Ages = [\"<10\", \"10-14\", \"15-19\", \"20-24\", \"25-29\", \"30-34\", \"35-39\",\"40+\"]\n",
    "unique_player[\"Age Groups\"]=pd.cut(unique_player[\"Age\"], Age_Categories, labels=Ages)\n",
    "\n",
    "# Calculate the number demographically per count\n",
    "Age1=unique_player[\"Age Groups\"]==\"<10\"\n",
    "Age11 = unique_player.loc[Age1,:]\n",
    "A1=Age11['Gender'].count()\n",
    "\n",
    "Age2=unique_player[\"Age Groups\"]==\"10-14\"\n",
    "Age22 = unique_player.loc[Age2,:]\n",
    "A2=Age22['Gender'].count()\n",
    "\n",
    "Age3=unique_player[\"Age Groups\"]==\"15-19\"\n",
    "Age33 = unique_player.loc[Age3,:]\n",
    "A3=Age33['Gender'].count()\n",
    "\n",
    "Age4=unique_player[\"Age Groups\"]==\"20-24\"\n",
    "Age44 = unique_player.loc[Age4,:]\n",
    "A4=Age44['Gender'].count()\n",
    "\n",
    "Age5=unique_player[\"Age Groups\"]==\"25-29\"\n",
    "Age55 = unique_player.loc[Age5,:]\n",
    "A5=Age55['Gender'].count()\n",
    "\n",
    "Age6=unique_player[\"Age Groups\"]==\"30-34\"\n",
    "Age66 = unique_player.loc[Age6,:]\n",
    "A6=Age66['Gender'].count()\n",
    "\n",
    "Age7=unique_player[\"Age Groups\"]==\"35-39\"\n",
    "Age77 = unique_player.loc[Age7,:]\n",
    "A7=Age77['Gender'].count()\n",
    "\n",
    "Age8=unique_player[\"Age Groups\"]==\"40+\"\n",
    "Age88 = unique_player.loc[Age8,:]\n",
    "A8=Age88['Gender'].count()\n",
    "\n",
    "\n",
    "TPV1=Age11['Price'].sum()\n",
    "Avgprice1=TPV1/A1\n",
    "Totpp11 = Age11[\"SN\"].unique()\n",
    "Totpp1 = TPV1/len(Totpp11)\n",
    "\n",
    "TPV2=Age22['Price'].sum()\n",
    "Avgprice2=TPV2/A2\n",
    "Totpp22 = Age22[\"SN\"].unique()\n",
    "Totpp2 = TPV2/len(Totpp22)\n",
    "\n",
    "TPV3=Age33['Price'].sum()\n",
    "Avgprice3=TPV3/A3\n",
    "Totpp33 = Age33[\"SN\"].unique()\n",
    "Totpp3 = TPV3/len(Totpp33)\n",
    "\n",
    "TPV4=Age44['Price'].sum()\n",
    "Avgprice4=TPV4/A4\n",
    "Totpp44 = Age44[\"SN\"].unique()\n",
    "Totpp4 = TPV4/len(Totpp44)\n",
    "\n",
    "TPV5=Age55['Price'].sum()\n",
    "Avgprice5=TPV5/A5\n",
    "Totpp55 = Age55[\"SN\"].unique()\n",
    "Totpp5 = TPV5/len(Totpp55)\n",
    "\n",
    "TPV6=Age66['Price'].sum()\n",
    "Avgprice6=TPV6/A6\n",
    "Totpp66 = Age66[\"SN\"].unique()\n",
    "Totpp6 = TPV6/len(Totpp66)\n",
    "\n",
    "TPV7=Age77['Price'].sum()\n",
    "Avgprice7=TPV7/A7\n",
    "Totpp77 = Age77[\"SN\"].unique()\n",
    "Totpp7 = TPV7/len(Totpp77)\n",
    "\n",
    "TPV8=Age88['Price'].sum()\n",
    "Avgprice8=TPV8/A8\n",
    "Totpp88 = Age88[\"SN\"].unique()\n",
    "Totpp8 = TPV8/len(Totpp88)\n",
    "\n",
    "\n",
    "Age_Demographics_df = pd.DataFrame({\"Purchase Count\":[A1,A2,A3,A4,A5,A6,A7,A8],\n",
    "                                   \"Average Purchase Price\": [Avgprice1, Avgprice2, Avgprice3, Avgprice4, Avgprice5, Avgprice6, Avgprice7, Avgprice8],\n",
    "                                   \"Total Purchase Value\": [TPV1, TPV2, TPV3, TPV4, TPV5, TPV6, TPV7, TPV8],\n",
    "                                   \"Avg Total Purchase per Person\": [Totpp1, Totpp2, Totpp3, Totpp4, Totpp5, Totpp6, Totpp7, Totpp8]}, index=Ages)\n",
    "\n",
    "Age_Demographics_df.style.format({\"Average Purchase Price\": \"${:.2f}\", \"Total Purchase Value\":\"${:.2f}\", \"Avg Total Purchase per Person\":\"${:.2f}\"})\n",
    "\n",
    "\n",
    "\n"
   ]
  },
  {
   "cell_type": "markdown",
   "metadata": {},
   "source": [
    "## Top Spenders"
   ]
  },
  {
   "cell_type": "markdown",
   "metadata": {},
   "source": [
    "* Run basic calculations to obtain the results in the table below\n",
    "\n",
    "\n",
    "* Create a summary data frame to hold the results\n",
    "\n",
    "\n",
    "* Sort the total purchase value column in descending order\n",
    "\n",
    "\n",
    "* Optional: give the displayed data cleaner formatting\n",
    "\n",
    "\n",
    "* Display a preview of the summary data frame\n",
    "\n"
   ]
  },
  {
   "cell_type": "code",
   "execution_count": 385,
   "metadata": {},
   "outputs": [
    {
     "data": {
      "text/html": [
       "<style  type=\"text/css\" >\n",
       "</style><table id=\"T_f90f04f4_a922_11ea_9ddc_283a4d0bcbba\" ><thead>    <tr>        <th class=\"blank level0\" ></th>        <th class=\"col_heading level0 col0\" >Purchase Count</th>        <th class=\"col_heading level0 col1\" >Average Purchase Price</th>        <th class=\"col_heading level0 col2\" >Price</th>    </tr>    <tr>        <th class=\"index_name level0\" >SN</th>        <th class=\"blank\" ></th>        <th class=\"blank\" ></th>        <th class=\"blank\" ></th>    </tr></thead><tbody>\n",
       "                <tr>\n",
       "                        <th id=\"T_f90f04f4_a922_11ea_9ddc_283a4d0bcbbalevel0_row0\" class=\"row_heading level0 row0\" >Lisosia93</th>\n",
       "                        <td id=\"T_f90f04f4_a922_11ea_9ddc_283a4d0bcbbarow0_col0\" class=\"data row0 col0\" >5</td>\n",
       "                        <td id=\"T_f90f04f4_a922_11ea_9ddc_283a4d0bcbbarow0_col1\" class=\"data row0 col1\" >$3.79</td>\n",
       "                        <td id=\"T_f90f04f4_a922_11ea_9ddc_283a4d0bcbbarow0_col2\" class=\"data row0 col2\" >$18.96</td>\n",
       "            </tr>\n",
       "            <tr>\n",
       "                        <th id=\"T_f90f04f4_a922_11ea_9ddc_283a4d0bcbbalevel0_row1\" class=\"row_heading level0 row1\" >Idastidru52</th>\n",
       "                        <td id=\"T_f90f04f4_a922_11ea_9ddc_283a4d0bcbbarow1_col0\" class=\"data row1 col0\" >4</td>\n",
       "                        <td id=\"T_f90f04f4_a922_11ea_9ddc_283a4d0bcbbarow1_col1\" class=\"data row1 col1\" >$3.86</td>\n",
       "                        <td id=\"T_f90f04f4_a922_11ea_9ddc_283a4d0bcbbarow1_col2\" class=\"data row1 col2\" >$15.45</td>\n",
       "            </tr>\n",
       "            <tr>\n",
       "                        <th id=\"T_f90f04f4_a922_11ea_9ddc_283a4d0bcbbalevel0_row2\" class=\"row_heading level0 row2\" >Chamjask73</th>\n",
       "                        <td id=\"T_f90f04f4_a922_11ea_9ddc_283a4d0bcbbarow2_col0\" class=\"data row2 col0\" >3</td>\n",
       "                        <td id=\"T_f90f04f4_a922_11ea_9ddc_283a4d0bcbbarow2_col1\" class=\"data row2 col1\" >$4.61</td>\n",
       "                        <td id=\"T_f90f04f4_a922_11ea_9ddc_283a4d0bcbbarow2_col2\" class=\"data row2 col2\" >$13.83</td>\n",
       "            </tr>\n",
       "            <tr>\n",
       "                        <th id=\"T_f90f04f4_a922_11ea_9ddc_283a4d0bcbbalevel0_row3\" class=\"row_heading level0 row3\" >Iral74</th>\n",
       "                        <td id=\"T_f90f04f4_a922_11ea_9ddc_283a4d0bcbbarow3_col0\" class=\"data row3 col0\" >4</td>\n",
       "                        <td id=\"T_f90f04f4_a922_11ea_9ddc_283a4d0bcbbarow3_col1\" class=\"data row3 col1\" >$3.40</td>\n",
       "                        <td id=\"T_f90f04f4_a922_11ea_9ddc_283a4d0bcbbarow3_col2\" class=\"data row3 col2\" >$13.62</td>\n",
       "            </tr>\n",
       "            <tr>\n",
       "                        <th id=\"T_f90f04f4_a922_11ea_9ddc_283a4d0bcbbalevel0_row4\" class=\"row_heading level0 row4\" >Iskadarya95</th>\n",
       "                        <td id=\"T_f90f04f4_a922_11ea_9ddc_283a4d0bcbbarow4_col0\" class=\"data row4 col0\" >3</td>\n",
       "                        <td id=\"T_f90f04f4_a922_11ea_9ddc_283a4d0bcbbarow4_col1\" class=\"data row4 col1\" >$4.37</td>\n",
       "                        <td id=\"T_f90f04f4_a922_11ea_9ddc_283a4d0bcbbarow4_col2\" class=\"data row4 col2\" >$13.10</td>\n",
       "            </tr>\n",
       "    </tbody></table>"
      ],
      "text/plain": [
       "<pandas.io.formats.style.Styler at 0x2388aa4f688>"
      ]
     },
     "execution_count": 385,
     "metadata": {},
     "output_type": "execute_result"
    }
   ],
   "source": [
    "Biggest_Spender=purchase_data[[\"SN\", \"Price\"]].copy()\n",
    "Biggest_Spender = Biggest_Spender.groupby([\"SN\"]).sum()\n",
    "Biggest_Spender = Biggest_Spender.sort_values(by=['Price'], ascending=False)\n",
    "Biggest_Spender\n",
    "#\n",
    "\n",
    "BSCount=purchase_data[[\"SN\", \"Price\"]].copy()\n",
    "BSCount1 = BSCount.rename(columns={'Price': 'Price_Count'})\n",
    "BSCount1 = BSCount1.groupby([\"SN\"]).count()\n",
    "BSCount1\n",
    "\n",
    "merge_df=pd.merge(Biggest_Spender, BSCount1, on=\"SN\")\n",
    "merge_df['Average Purchase Price'] = merge_df.Price/merge_df.Price_Count\n",
    "merge_df=merge_df[[\"Price_Count\", \"Average Purchase Price\", \"Price\"]]\n",
    "merge_df=merge_df.rename(columns={\"Price_Count\":\"Purchase Count\"})\n",
    "merge_df=merge_df.head()\n",
    "merge_df.style.format({\"Average Purchase Price\": \"${:.2f}\", \"Price\":\"${:.2f}\"})\n",
    "\n",
    "\n"
   ]
  },
  {
   "cell_type": "markdown",
   "metadata": {},
   "source": [
    "## Most Popular Items"
   ]
  },
  {
   "cell_type": "markdown",
   "metadata": {},
   "source": [
    "* Retrieve the Item ID, Item Name, and Item Price columns\n",
    "\n",
    "\n",
    "* Group by Item ID and Item Name. Perform calculations to obtain purchase count, item price, and total purchase value\n",
    "\n",
    "\n",
    "* Create a summary data frame to hold the results\n",
    "\n",
    "\n",
    "* Sort the purchase count column in descending order\n",
    "\n",
    "\n",
    "* Optional: give the displayed data cleaner formatting\n",
    "\n",
    "\n",
    "* Display a preview of the summary data frame\n",
    "\n"
   ]
  },
  {
   "cell_type": "code",
   "execution_count": 401,
   "metadata": {},
   "outputs": [
    {
     "data": {
      "text/html": [
       "<style  type=\"text/css\" >\n",
       "</style><table id=\"T_d5633480_a923_11ea_81db_283a4d0bcbba\" ><thead>    <tr>        <th class=\"blank level0\" ></th>        <th class=\"col_heading level0 col0\" >Item Name</th>        <th class=\"col_heading level0 col1\" >Purchase Count</th>        <th class=\"col_heading level0 col2\" >Item Price</th>        <th class=\"col_heading level0 col3\" >Total Purchase Value</th>    </tr>    <tr>        <th class=\"index_name level0\" >Item ID</th>        <th class=\"blank\" ></th>        <th class=\"blank\" ></th>        <th class=\"blank\" ></th>        <th class=\"blank\" ></th>    </tr></thead><tbody>\n",
       "                <tr>\n",
       "                        <th id=\"T_d5633480_a923_11ea_81db_283a4d0bcbbalevel0_row0\" class=\"row_heading level0 row0\" >92</th>\n",
       "                        <td id=\"T_d5633480_a923_11ea_81db_283a4d0bcbbarow0_col0\" class=\"data row0 col0\" >Final Critic</td>\n",
       "                        <td id=\"T_d5633480_a923_11ea_81db_283a4d0bcbbarow0_col1\" class=\"data row0 col1\" >13</td>\n",
       "                        <td id=\"T_d5633480_a923_11ea_81db_283a4d0bcbbarow0_col2\" class=\"data row0 col2\" >$4.61</td>\n",
       "                        <td id=\"T_d5633480_a923_11ea_81db_283a4d0bcbbarow0_col3\" class=\"data row0 col3\" >$59.99</td>\n",
       "            </tr>\n",
       "            <tr>\n",
       "                        <th id=\"T_d5633480_a923_11ea_81db_283a4d0bcbbalevel0_row1\" class=\"row_heading level0 row1\" >178</th>\n",
       "                        <td id=\"T_d5633480_a923_11ea_81db_283a4d0bcbbarow1_col0\" class=\"data row1 col0\" >Oathbreaker, Last Hope of the Breaking Storm</td>\n",
       "                        <td id=\"T_d5633480_a923_11ea_81db_283a4d0bcbbarow1_col1\" class=\"data row1 col1\" >12</td>\n",
       "                        <td id=\"T_d5633480_a923_11ea_81db_283a4d0bcbbarow1_col2\" class=\"data row1 col2\" >$4.23</td>\n",
       "                        <td id=\"T_d5633480_a923_11ea_81db_283a4d0bcbbarow1_col3\" class=\"data row1 col3\" >$50.76</td>\n",
       "            </tr>\n",
       "            <tr>\n",
       "                        <th id=\"T_d5633480_a923_11ea_81db_283a4d0bcbbalevel0_row2\" class=\"row_heading level0 row2\" >82</th>\n",
       "                        <td id=\"T_d5633480_a923_11ea_81db_283a4d0bcbbarow2_col0\" class=\"data row2 col0\" >Nirvana</td>\n",
       "                        <td id=\"T_d5633480_a923_11ea_81db_283a4d0bcbbarow2_col1\" class=\"data row2 col1\" >9</td>\n",
       "                        <td id=\"T_d5633480_a923_11ea_81db_283a4d0bcbbarow2_col2\" class=\"data row2 col2\" >$4.90</td>\n",
       "                        <td id=\"T_d5633480_a923_11ea_81db_283a4d0bcbbarow2_col3\" class=\"data row2 col3\" >$44.10</td>\n",
       "            </tr>\n",
       "            <tr>\n",
       "                        <th id=\"T_d5633480_a923_11ea_81db_283a4d0bcbbalevel0_row3\" class=\"row_heading level0 row3\" >145</th>\n",
       "                        <td id=\"T_d5633480_a923_11ea_81db_283a4d0bcbbarow3_col0\" class=\"data row3 col0\" >Fiery Glass Crusader</td>\n",
       "                        <td id=\"T_d5633480_a923_11ea_81db_283a4d0bcbbarow3_col1\" class=\"data row3 col1\" >9</td>\n",
       "                        <td id=\"T_d5633480_a923_11ea_81db_283a4d0bcbbarow3_col2\" class=\"data row3 col2\" >$4.58</td>\n",
       "                        <td id=\"T_d5633480_a923_11ea_81db_283a4d0bcbbarow3_col3\" class=\"data row3 col3\" >$41.22</td>\n",
       "            </tr>\n",
       "            <tr>\n",
       "                        <th id=\"T_d5633480_a923_11ea_81db_283a4d0bcbbalevel0_row4\" class=\"row_heading level0 row4\" >108</th>\n",
       "                        <td id=\"T_d5633480_a923_11ea_81db_283a4d0bcbbarow4_col0\" class=\"data row4 col0\" >Extraction, Quickblade Of Trembling Hands</td>\n",
       "                        <td id=\"T_d5633480_a923_11ea_81db_283a4d0bcbbarow4_col1\" class=\"data row4 col1\" >9</td>\n",
       "                        <td id=\"T_d5633480_a923_11ea_81db_283a4d0bcbbarow4_col2\" class=\"data row4 col2\" >$3.53</td>\n",
       "                        <td id=\"T_d5633480_a923_11ea_81db_283a4d0bcbbarow4_col3\" class=\"data row4 col3\" >$31.77</td>\n",
       "            </tr>\n",
       "            <tr>\n",
       "                        <th id=\"T_d5633480_a923_11ea_81db_283a4d0bcbbalevel0_row5\" class=\"row_heading level0 row5\" >132</th>\n",
       "                        <td id=\"T_d5633480_a923_11ea_81db_283a4d0bcbbarow5_col0\" class=\"data row5 col0\" >Persuasion</td>\n",
       "                        <td id=\"T_d5633480_a923_11ea_81db_283a4d0bcbbarow5_col1\" class=\"data row5 col1\" >9</td>\n",
       "                        <td id=\"T_d5633480_a923_11ea_81db_283a4d0bcbbarow5_col2\" class=\"data row5 col2\" >$3.22</td>\n",
       "                        <td id=\"T_d5633480_a923_11ea_81db_283a4d0bcbbarow5_col3\" class=\"data row5 col3\" >$28.99</td>\n",
       "            </tr>\n",
       "    </tbody></table>"
      ],
      "text/plain": [
       "<pandas.io.formats.style.Styler at 0x2388bdd35c8>"
      ]
     },
     "execution_count": 401,
     "metadata": {},
     "output_type": "execute_result"
    }
   ],
   "source": [
    "OG_Item=purchase_data[[\"Item ID\", \"Item Name\", \"Price\",]].copy()\n",
    "\n",
    "#Calculate Sum\n",
    "Pop_item = OG_Item.groupby([\"Item ID\",\"Item Name\"]).sum()\n",
    "Pop_item = Pop_item.sort_values(by=['Price'], ascending=False)\n",
    "Pop_item\n",
    "\n",
    "#Calculate Count\n",
    "Pop_Count = OG_Item.groupby([\"Item ID\", \"Item Name\"]).count()\n",
    "Pop_Count = Pop_Count.sort_values(by=['Price'], ascending=False)\n",
    "Pop_Count = Pop_Count.rename(columns={\"Price\":\"Count\"})\n",
    "\n",
    "\n",
    "#Additional Data frame for Item names\n",
    "Names=OG_Item[[\"Item ID\", \"Item Name\"]].copy()\n",
    "Names.drop_duplicates(subset =\"Item ID\", \n",
    "                     keep = 'first', inplace = True) \n",
    "\n",
    "#merge sum and count\n",
    "merge_item_df=pd.merge(Pop_item, Pop_Count, on=\"Item ID\", how = \"right\")\n",
    "\n",
    "#merge item names\n",
    "merge_item_df=pd.merge(merge_item_df, Names, on=\"Item ID\", how = \"left\")\n",
    "\n",
    "#Sort total purchase count in descending\n",
    "merge_item_df = merge_item_df.sort_values(by=['Count'], ascending=False)\n",
    "\n",
    "#Calculate item price per item purchased\n",
    "merge_item_df['Item Price'] = merge_item_df.Price/merge_item_df.Count\n",
    "\n",
    "#reorder columns\n",
    "merge_item_df=merge_item_df[[\"Item ID\", \"Item Name\", \"Count\",\"Item Price\",\"Price\"]]\n",
    "\n",
    "#reset index to Item ID\n",
    "merge_item_df=merge_item_df.set_index(\"Item ID\")\n",
    "\n",
    "#rename columns as needed\n",
    "merge_item_df=merge_item_df.rename(columns={\"Count\":\"Purchase Count\",\"Price\":\"Total Purchase Value\"})\n",
    "\n",
    "#Only show first 5 rows\n",
    "merge_item_df3=merge_item_df.head(6)\n",
    "\n",
    "#format prices to include $ and only show 2 decimals\n",
    "merge_item_df3.style.format({\"Item Price\": \"${:.2f}\", \"Total Purchase Value\":\"${:.2f}\"})\n",
    "\n"
   ]
  },
  {
   "cell_type": "markdown",
   "metadata": {},
   "source": [
    "## Most Profitable Items"
   ]
  },
  {
   "cell_type": "markdown",
   "metadata": {},
   "source": [
    "* Sort the above table by total purchase value in descending order\n",
    "\n",
    "\n",
    "* Optional: give the displayed data cleaner formatting\n",
    "\n",
    "\n",
    "* Display a preview of the data frame\n",
    "\n"
   ]
  },
  {
   "cell_type": "code",
   "execution_count": 403,
   "metadata": {
    "scrolled": true
   },
   "outputs": [
    {
     "data": {
      "text/html": [
       "<style  type=\"text/css\" >\n",
       "</style><table id=\"T_df1c4288_a923_11ea_846d_283a4d0bcbba\" ><thead>    <tr>        <th class=\"blank level0\" ></th>        <th class=\"col_heading level0 col0\" >Item Name</th>        <th class=\"col_heading level0 col1\" >Purchase Count</th>        <th class=\"col_heading level0 col2\" >Item Price</th>        <th class=\"col_heading level0 col3\" >Total Purchase Value</th>    </tr>    <tr>        <th class=\"index_name level0\" >Item ID</th>        <th class=\"blank\" ></th>        <th class=\"blank\" ></th>        <th class=\"blank\" ></th>        <th class=\"blank\" ></th>    </tr></thead><tbody>\n",
       "                <tr>\n",
       "                        <th id=\"T_df1c4288_a923_11ea_846d_283a4d0bcbbalevel0_row0\" class=\"row_heading level0 row0\" >92</th>\n",
       "                        <td id=\"T_df1c4288_a923_11ea_846d_283a4d0bcbbarow0_col0\" class=\"data row0 col0\" >Final Critic</td>\n",
       "                        <td id=\"T_df1c4288_a923_11ea_846d_283a4d0bcbbarow0_col1\" class=\"data row0 col1\" >13</td>\n",
       "                        <td id=\"T_df1c4288_a923_11ea_846d_283a4d0bcbbarow0_col2\" class=\"data row0 col2\" >$4.61</td>\n",
       "                        <td id=\"T_df1c4288_a923_11ea_846d_283a4d0bcbbarow0_col3\" class=\"data row0 col3\" >$59.99</td>\n",
       "            </tr>\n",
       "            <tr>\n",
       "                        <th id=\"T_df1c4288_a923_11ea_846d_283a4d0bcbbalevel0_row1\" class=\"row_heading level0 row1\" >178</th>\n",
       "                        <td id=\"T_df1c4288_a923_11ea_846d_283a4d0bcbbarow1_col0\" class=\"data row1 col0\" >Oathbreaker, Last Hope of the Breaking Storm</td>\n",
       "                        <td id=\"T_df1c4288_a923_11ea_846d_283a4d0bcbbarow1_col1\" class=\"data row1 col1\" >12</td>\n",
       "                        <td id=\"T_df1c4288_a923_11ea_846d_283a4d0bcbbarow1_col2\" class=\"data row1 col2\" >$4.23</td>\n",
       "                        <td id=\"T_df1c4288_a923_11ea_846d_283a4d0bcbbarow1_col3\" class=\"data row1 col3\" >$50.76</td>\n",
       "            </tr>\n",
       "            <tr>\n",
       "                        <th id=\"T_df1c4288_a923_11ea_846d_283a4d0bcbbalevel0_row2\" class=\"row_heading level0 row2\" >82</th>\n",
       "                        <td id=\"T_df1c4288_a923_11ea_846d_283a4d0bcbbarow2_col0\" class=\"data row2 col0\" >Nirvana</td>\n",
       "                        <td id=\"T_df1c4288_a923_11ea_846d_283a4d0bcbbarow2_col1\" class=\"data row2 col1\" >9</td>\n",
       "                        <td id=\"T_df1c4288_a923_11ea_846d_283a4d0bcbbarow2_col2\" class=\"data row2 col2\" >$4.90</td>\n",
       "                        <td id=\"T_df1c4288_a923_11ea_846d_283a4d0bcbbarow2_col3\" class=\"data row2 col3\" >$44.10</td>\n",
       "            </tr>\n",
       "            <tr>\n",
       "                        <th id=\"T_df1c4288_a923_11ea_846d_283a4d0bcbbalevel0_row3\" class=\"row_heading level0 row3\" >145</th>\n",
       "                        <td id=\"T_df1c4288_a923_11ea_846d_283a4d0bcbbarow3_col0\" class=\"data row3 col0\" >Fiery Glass Crusader</td>\n",
       "                        <td id=\"T_df1c4288_a923_11ea_846d_283a4d0bcbbarow3_col1\" class=\"data row3 col1\" >9</td>\n",
       "                        <td id=\"T_df1c4288_a923_11ea_846d_283a4d0bcbbarow3_col2\" class=\"data row3 col2\" >$4.58</td>\n",
       "                        <td id=\"T_df1c4288_a923_11ea_846d_283a4d0bcbbarow3_col3\" class=\"data row3 col3\" >$41.22</td>\n",
       "            </tr>\n",
       "            <tr>\n",
       "                        <th id=\"T_df1c4288_a923_11ea_846d_283a4d0bcbbalevel0_row4\" class=\"row_heading level0 row4\" >103</th>\n",
       "                        <td id=\"T_df1c4288_a923_11ea_846d_283a4d0bcbbarow4_col0\" class=\"data row4 col0\" >Singed Scalpel</td>\n",
       "                        <td id=\"T_df1c4288_a923_11ea_846d_283a4d0bcbbarow4_col1\" class=\"data row4 col1\" >8</td>\n",
       "                        <td id=\"T_df1c4288_a923_11ea_846d_283a4d0bcbbarow4_col2\" class=\"data row4 col2\" >$4.35</td>\n",
       "                        <td id=\"T_df1c4288_a923_11ea_846d_283a4d0bcbbarow4_col3\" class=\"data row4 col3\" >$34.80</td>\n",
       "            </tr>\n",
       "    </tbody></table>"
      ],
      "text/plain": [
       "<pandas.io.formats.style.Styler at 0x2388abcf848>"
      ]
     },
     "execution_count": 403,
     "metadata": {},
     "output_type": "execute_result"
    }
   ],
   "source": [
    "#Sort total purchase count in descending\n",
    "merge_item_df2 = merge_item_df.sort_values(by=['Total Purchase Value'], ascending=False)\n",
    "\n",
    "\n",
    "\n",
    "#Only show first 5 rows\n",
    "merge_item_df2=merge_item_df2.head()\n",
    "\n",
    "#format prices to include $ and only show 2 decimals\n",
    "merge_item_df2.style.format({\"Item Price\": \"${:.2f}\", \"Total Purchase Value\":\"${:.2f}\"})\n"
   ]
  },
  {
   "cell_type": "code",
   "execution_count": null,
   "metadata": {},
   "outputs": [],
   "source": []
  }
 ],
 "metadata": {
  "anaconda-cloud": {},
  "kernel_info": {
   "name": "python3"
  },
  "kernelspec": {
   "display_name": "Python 3",
   "language": "python",
   "name": "python3"
  },
  "language_info": {
   "codemirror_mode": {
    "name": "ipython",
    "version": 3
   },
   "file_extension": ".py",
   "mimetype": "text/x-python",
   "name": "python",
   "nbconvert_exporter": "python",
   "pygments_lexer": "ipython3",
   "version": "3.7.6"
  },
  "latex_envs": {
   "LaTeX_envs_menu_present": true,
   "autoclose": false,
   "autocomplete": true,
   "bibliofile": "biblio.bib",
   "cite_by": "apalike",
   "current_citInitial": 1,
   "eqLabelWithNumbers": true,
   "eqNumInitial": 1,
   "hotkeys": {
    "equation": "Ctrl-E",
    "itemize": "Ctrl-I"
   },
   "labels_anchors": false,
   "latex_user_defs": false,
   "report_style_numbering": false,
   "user_envs_cfg": false
  },
  "nteract": {
   "version": "0.2.0"
  }
 },
 "nbformat": 4,
 "nbformat_minor": 2
}
